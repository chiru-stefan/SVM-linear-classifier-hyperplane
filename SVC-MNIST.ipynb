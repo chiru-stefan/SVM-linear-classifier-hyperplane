{
 "cells": [
  {
   "cell_type": "code",
   "execution_count": 1,
   "id": "31bb66ad-48b2-434f-8e13-c419fb4d4cc9",
   "metadata": {},
   "outputs": [],
   "source": [
    "import pandas as pd\n",
    "from sklearn.svm import SVC\n",
    "import numpy as np\n",
    "from tensorflow import keras\n",
    "import time\n",
    "from sklearn.multiclass import OneVsRestClassifier\n",
    "from sklearn.svm import LinearSVC"
   ]
  },
  {
   "cell_type": "markdown",
   "id": "ce4a395d-e8dd-46a2-86f2-992a0c64a763",
   "metadata": {},
   "source": [
    "### Dataset normalization"
   ]
  },
  {
   "cell_type": "code",
   "execution_count": 11,
   "id": "40e83db8-4733-40db-9b80-0d3756613e70",
   "metadata": {},
   "outputs": [],
   "source": [
    "(x_train, y_train), (x_test, y_test) = keras.datasets.mnist.load_data()\n",
    "x_train, y_train = x_train[:30000], y_train[:30000]\n",
    "x_valid, y_valid = x_test[:3000], y_test[:3000]\n",
    "x_test, y_test = x_test[3000:], y_test[3000:]\n",
    "\n",
    "x_train = x_train.astype('float32')\n",
    "x_test = x_test.astype('float32')\n",
    "x_valid = x_valid.astype('float32')\n",
    "\n",
    "x_train = x_train / 255.0\n",
    "x_test = x_test / 255.0\n",
    "x_valid = x_valid / 255.0\n"
   ]
  },
  {
   "cell_type": "code",
   "execution_count": 12,
   "id": "62be6d59-da54-4672-a636-095ee191d98f",
   "metadata": {},
   "outputs": [],
   "source": [
    "x_train_flat = np.array([x.ravel() for x in x_train])\n",
    "x_test_flat = np.array([x.ravel() for x in x_test])"
   ]
  },
  {
   "cell_type": "code",
   "execution_count": 15,
   "id": "4ca26ac1-1954-4c59-9458-b0fa4b9066a6",
   "metadata": {},
   "outputs": [
    {
     "name": "stdout",
     "output_type": "stream",
     "text": [
      "Training time:  98.5876259803772 seconds\n"
     ]
    }
   ],
   "source": [
    "start_t = time.time()\n",
    "clf = SVC(gamma='auto')\n",
    "clf.fit(x_train_flat, y_train)\n",
    "print('Training time: ', time.time()-start_t, 'seconds')"
   ]
  },
  {
   "cell_type": "code",
   "execution_count": 4,
   "id": "316d985f-da90-41a7-83c3-ebd976d516c6",
   "metadata": {},
   "outputs": [
    {
     "name": "stdout",
     "output_type": "stream",
     "text": [
      "Training time:  0.8498804569244385 seconds\n"
     ]
    },
    {
     "name": "stderr",
     "output_type": "stream",
     "text": [
      "/home/fefy/anaconda3/lib/python3.8/site-packages/sklearn/svm/_base.py:985: ConvergenceWarning: Liblinear failed to converge, increase the number of iterations.\n",
      "  warnings.warn(\"Liblinear failed to converge, increase \"\n"
     ]
    }
   ],
   "source": [
    "start_t = time.time()\n",
    "clf = LinearSVC()\n",
    "clf.fit(x_train_flat, y_train)\n",
    "print('Training time: ', time.time()-start_t, 'seconds')"
   ]
  },
  {
   "cell_type": "code",
   "execution_count": 13,
   "id": "8107cd6b-5c88-4197-8fc1-bfec9d279c1c",
   "metadata": {},
   "outputs": [
    {
     "name": "stdout",
     "output_type": "stream",
     "text": [
      "Training time:  12.749311447143555 seconds\n"
     ]
    }
   ],
   "source": [
    "start_t = time.time()\n",
    "clf = OneVsRestClassifier(LinearSVC(), n_jobs=-1)\n",
    "clf.fit(x_train_flat, y_train)\n",
    "print('Training time: ', time.time()-start_t, 'seconds')"
   ]
  },
  {
   "cell_type": "code",
   "execution_count": 17,
   "id": "bcf5e6a2-f126-41db-8416-fb63f92db86f",
   "metadata": {
    "tags": []
   },
   "outputs": [
    {
     "name": "stdout",
     "output_type": "stream",
     "text": [
      "Training time:  207.38757920265198 seconds\n"
     ]
    }
   ],
   "source": [
    "start_t = time.time()\n",
    "clf = OneVsRestClassifier(SVC(gamma='auto'), n_jobs=-1)\n",
    "clf.fit(x_train_flat, y_train)\n",
    "print('Training time: ', time.time()-start_t, 'seconds')"
   ]
  },
  {
   "cell_type": "code",
   "execution_count": 18,
   "id": "91f0156a-715c-49c7-b6c8-25bf33f90634",
   "metadata": {},
   "outputs": [
    {
     "data": {
      "text/plain": [
       "0.9304285714285714"
      ]
     },
     "execution_count": 18,
     "metadata": {},
     "output_type": "execute_result"
    }
   ],
   "source": [
    "def compute_accuracy(y_true, y_pred):\n",
    "    '''Compute classification accuracy with a fixed threshold on distances.\n",
    "    '''\n",
    "    return np.mean(y_pred == y_true)\n",
    "\n",
    "results_predict = clf.predict(x_test_flat)\n",
    "acc = compute_accuracy(y_test, results_predict)\n",
    "acc"
   ]
  },
  {
   "cell_type": "markdown",
   "id": "782ce956-db2d-461c-bbdd-038449f5c65a",
   "metadata": {},
   "source": [
    "#### SVC - RBF - ACC: 0.9475714285714286\n",
    "#### SVC - Linear - ACC: \n",
    "#### LinearSVC - ACC: 0.8784285714285714\n",
    "#### OneVsRestClassifier - SVC linear - ACC: 0.8804285714285714\n",
    "\n",
    "#### 30.000 samples\n",
    "#### OneVsRestClassifier - LinearSVC - ACC: 0.9215714285714286 Training time:  12.749311447143555 seconds\n",
    "#### SVC - RBF - ACC: 0.9475714285714286 Training time:  98.5876259803772 seconds\n",
    "#### OneVsRestClassifier - SVC RBF - ACC: 0.9304285714285714 Training time:  207.38757920265198 seconds\n"
   ]
  }
 ],
 "metadata": {
  "kernelspec": {
   "display_name": "Python 3",
   "language": "python",
   "name": "python3"
  },
  "language_info": {
   "codemirror_mode": {
    "name": "ipython",
    "version": 3
   },
   "file_extension": ".py",
   "mimetype": "text/x-python",
   "name": "python",
   "nbconvert_exporter": "python",
   "pygments_lexer": "ipython3",
   "version": "3.8.8"
  }
 },
 "nbformat": 4,
 "nbformat_minor": 5
}
